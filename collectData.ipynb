{
 "cells": [
  {
   "cell_type": "code",
   "execution_count": 1,
   "metadata": {},
   "outputs": [],
   "source": [
    "import json\n",
    "with open('twitterData.txt','r') as f:\n",
    "    twtr_auth = json.load(f)"
   ]
  },
  {
   "cell_type": "markdown",
   "metadata": {},
   "source": [
    "###### my twitter keys are stored in twitterData.txt"
   ]
  },
  {
   "cell_type": "code",
   "execution_count": 2,
   "metadata": {},
   "outputs": [],
   "source": [
    "from twitter import *"
   ]
  },
  {
   "cell_type": "code",
   "execution_count": 3,
   "metadata": {},
   "outputs": [],
   "source": [
    "# Loading my authentication tokens\n",
    "#with open('twitterData.txt','r') as f:\n",
    "#    twtr_auth = json.load(f)\n",
    "\n",
    "# To make it more readable, lets store\n",
    "# the OAuth credentials in strings first.\n",
    "CONSUMER_KEY = twtr_auth['API_keys']\n",
    "CONSUMER_SECRET = twtr_auth['API_secret_key']\n",
    "OAUTH_TOKEN = twtr_auth['Access_token']\n",
    "OAUTH_TOKEN_SECRET = twtr_auth['Access_token_secret']\n",
    "    \n",
    "# Then, we store the OAuth object in \"auth\"\n",
    "auth = OAuth(OAUTH_TOKEN, OAUTH_TOKEN_SECRET,\n",
    "                           CONSUMER_KEY, CONSUMER_SECRET)\n",
    "# Notice that there are four tokens - you need to create these in the\n",
    "# Twitter Apps dashboard after you have created your own \"app\".\n",
    "\n",
    "# We now create the twitter search object.\n",
    "t = Twitter(auth=auth)"
   ]
  },
  {
   "cell_type": "markdown",
   "metadata": {},
   "source": [
    "###### loading authentication tokens to use twitter APIs"
   ]
  },
  {
   "cell_type": "code",
   "execution_count": 4,
   "metadata": {},
   "outputs": [],
   "source": [
    "import sys\n",
    "import time\n",
    "from twitter.api import TwitterHTTPError\n",
    "from urllib.error import URLError\n",
    "from http.client import BadStatusLine\n",
    "\n",
    "def make_twitter_request(twitter_api_func, max_errors=10, *args, **kw):\n",
    "    # A nested helper function that handles common HTTPErrors. Return an updated\n",
    "    # value for wait_period if the problem is a 500 level error. Block until the\n",
    "    # rate limit is reset if it's a rate limiting issue (429 error). Returns None\n",
    "    # for 401 and 404 errors, which requires special handling by the caller.\n",
    "    def handle_twitter_http_error(e, wait_period=2, sleep_when_rate_limited=True):\n",
    "        if wait_period > 3600: # Seconds\n",
    "            print('Too many retries. Quitting.', file=sys.stderr)\n",
    "            raise e\n",
    "        if e.e.code == 401:\n",
    "            return None\n",
    "        elif e.e.code == 404:\n",
    "            print('Encountered 404 Error (Not Found)', file=sys.stderr)\n",
    "            return None\n",
    "        elif e.e.code == 429:\n",
    "            print('Encountered 429 Error (Rate Limit Exceeded)', file=sys.stderr)\n",
    "            if sleep_when_rate_limited:\n",
    "                print(\"Retrying in 15 minutes...ZzZ...\", file=sys.stderr)\n",
    "                sys.stderr.flush()\n",
    "                time.sleep(60*15 + 5)\n",
    "                print('...ZzZ...Awake now and trying again.', file=sys.stderr)\n",
    "                return 2\n",
    "            else:\n",
    "                raise e # Caller must handle the rate limiting issue\n",
    "        elif e.e.code in (500, 502, 503, 504):\n",
    "            print('Encountered %i Error. Retrying in %i seconds' % (e.e.code, wait_period), file=sys.stderr)\n",
    "            time.sleep(wait_period)\n",
    "            wait_period *= 1.5\n",
    "            return wait_period\n",
    "        else:\n",
    "            raise e\n",
    "\n",
    "    # End of nested helper function\n",
    "\n",
    "    wait_period = 2\n",
    "    error_count = 0\n",
    "    while True:\n",
    "        try:\n",
    "            return twitter_api_func(*args, **kw)\n",
    "        except TwitterHTTPError as e:\n",
    "            error_count = 0\n",
    "            wait_period = handle_twitter_http_error(e, wait_period)\n",
    "            if wait_period is None:\n",
    "                return\n",
    "        except URLError as e:\n",
    "            error_count += 1\n",
    "            print(\"URLError encountered. Continuing.\", file=sys.stderr)\n",
    "            if error_count > max_errors:\n",
    "                print(\"Too many consecutive errors...bailing out.\", file=sys.stderr)\n",
    "                raise\n",
    "        except BadStatusLine as e:\n",
    "            error_count += 1\n",
    "            print >> sys.stderr, \"BadStatusLine encountered. Continuing.\"\n",
    "            if error_count > max_errors:\n",
    "                print(\"Too many consecutive errors...bailing out.\", file=sys.stderr)\n",
    "                raise"
   ]
  },
  {
   "cell_type": "markdown",
   "metadata": {},
   "source": [
    "###### as Twitter as a very stringent api rate limit, need to use a fucntion that will rest and restart after a certain interval"
   ]
  },
  {
   "cell_type": "code",
   "execution_count": 34,
   "metadata": {},
   "outputs": [],
   "source": [
    "df = pd.DataFrame(columns=['screen_name','tweets','retweet','retweetcount','favcount'])\n",
    "df.to_csv('allnomineesTweets2.csv', index=False)"
   ]
  },
  {
   "cell_type": "markdown",
   "metadata": {},
   "source": [
    "###### create a csv file to store the fetch data"
   ]
  },
  {
   "cell_type": "code",
   "execution_count": 5,
   "metadata": {},
   "outputs": [],
   "source": [
    "import pandas as pd\n",
    "def harvest_user_timeline(t, screen_name, user_id=None, max_results=1000):  \n",
    "    assert (screen_name != None) != (user_id != None)    \n",
    "    #\"Must have screen_name or user_id, but not both\"            \n",
    "    kw = {  # Keyword args for the Twitter API call        \n",
    "        'count': 200,        \n",
    "        'trim_user': 'true',        \n",
    "        'include_rts' : 'true',        \n",
    "        'since_id' : 1\n",
    "    } \n",
    "    if screen_name:        \n",
    "        kw['screen_name'] = screen_name \n",
    "    else:        \n",
    "        kw['user_id'] = user_id            \n",
    "    max_pages = 16    \n",
    "    results = []        \n",
    "    tweets = make_twitter_request(t.statuses.user_timeline, **kw)        \n",
    "    if tweets is None: # 401 (Not Authorized) - Need to bail out on loop entry        \n",
    "        tweets = []            \n",
    "    results += tweets        \n",
    "    print(sys.stderr, 'Fetched %i tweets' % len(tweets))\n",
    "    page_num = 1        \n",
    "    # Many Twitter accounts have fewer than 200 tweets so you don't want to enter    \n",
    "    # the loop and waste a precious request if max_results = 200.        \n",
    "    # Note: Analogous optimizations could be applied inside the loop to try and     \n",
    "    # save requests. e.g. Don't make a third request if you have 287 tweets out of     \n",
    "    # a possible 400 tweets after your second request. Twitter does do some     \n",
    "    # post-filtering on censored and deleted tweets out of batches of 'count', though,    \n",
    "    # so you can't strictly check for the number of results being 200. You might get    \n",
    "    # back 198, for example, and still have many more tweets to go. If you have the    \n",
    "    # total number of tweets for an account (by GET /users/lookup/), then you could     \n",
    "    # simply use this value as a guide.        \n",
    "    if max_results == kw['count']:        \n",
    "        page_num = max_pages # Prevent loop entry        \n",
    "    while page_num < max_pages and len(tweets) > 0 and len(results) < max_results:            \n",
    "            # Necessary for traversing the timeline in Twitter's v1.1 API:        \n",
    "            # get the next query's max-id parameter to pass in.        \n",
    "            # See https://dev.twitter.com/docs/working-with-timelines.        \n",
    "        kw['max_id'] = min([ tweet['id'] for tweet in tweets]) - 1             \n",
    "        tweets = make_twitter_request(t.statuses.user_timeline, **kw)        \n",
    "        results += tweets\n",
    "        print(sys.stderr, 'Fetched %i tweets' % (len(tweets)))            \n",
    "        page_num += 1            \n",
    "    print(sys.stderr, 'Done fetching tweets')\n",
    "    return results[:max_results] "
   ]
  },
  {
   "cell_type": "markdown",
   "metadata": {},
   "source": [
    "###### fucntion that will fetch tweets using a screen name with other parameters"
   ]
  },
  {
   "cell_type": "code",
   "execution_count": 6,
   "metadata": {},
   "outputs": [],
   "source": [
    "nominees = ['@MichaelBennet','@JoeBiden','@CoryBooker','@PeteButtigieg','@JulianCastro','@jddelaney','@TulsiGabbard','@SenGillibrand'\n",
    "           '@MikeGravel','@KamalaHarris','@Hickenlooper','@GovInslee','@amyklobuchar','@WayneMessam','@sethmoulton','@BetoORourke','@TimRyan'\n",
    "           '@BernieSanders','@RepSwalwell','@realDonaldTrump','@ewarren','@GovBillWeld','@AndrewYang']"
   ]
  },
  {
   "cell_type": "markdown",
   "metadata": {},
   "source": [
    "###### list of republicans as well as democrats nominees"
   ]
  },
  {
   "cell_type": "code",
   "execution_count": 7,
   "metadata": {},
   "outputs": [
    {
     "name": "stdout",
     "output_type": "stream",
     "text": [
      "<ipykernel.iostream.OutStream object at 0x0000022B0F3BD278> Fetched 200 tweets\n",
      "<ipykernel.iostream.OutStream object at 0x0000022B0F3BD278> Fetched 200 tweets\n",
      "<ipykernel.iostream.OutStream object at 0x0000022B0F3BD278> Fetched 199 tweets\n",
      "<ipykernel.iostream.OutStream object at 0x0000022B0F3BD278> Fetched 200 tweets\n",
      "<ipykernel.iostream.OutStream object at 0x0000022B0F3BD278> Fetched 200 tweets\n",
      "<ipykernel.iostream.OutStream object at 0x0000022B0F3BD278> Fetched 178 tweets\n",
      "<ipykernel.iostream.OutStream object at 0x0000022B0F3BD278> Done fetching tweets\n",
      "<ipykernel.iostream.OutStream object at 0x0000022B0F3BD278> Fetched 200 tweets\n",
      "<ipykernel.iostream.OutStream object at 0x0000022B0F3BD278> Fetched 200 tweets\n",
      "<ipykernel.iostream.OutStream object at 0x0000022B0F3BD278> Fetched 200 tweets\n",
      "<ipykernel.iostream.OutStream object at 0x0000022B0F3BD278> Fetched 200 tweets\n",
      "<ipykernel.iostream.OutStream object at 0x0000022B0F3BD278> Fetched 199 tweets\n",
      "<ipykernel.iostream.OutStream object at 0x0000022B0F3BD278> Fetched 200 tweets\n",
      "<ipykernel.iostream.OutStream object at 0x0000022B0F3BD278> Done fetching tweets\n",
      "<ipykernel.iostream.OutStream object at 0x0000022B0F3BD278> Fetched 200 tweets\n",
      "<ipykernel.iostream.OutStream object at 0x0000022B0F3BD278> Fetched 200 tweets\n",
      "<ipykernel.iostream.OutStream object at 0x0000022B0F3BD278> Fetched 200 tweets\n",
      "<ipykernel.iostream.OutStream object at 0x0000022B0F3BD278> Fetched 200 tweets\n",
      "<ipykernel.iostream.OutStream object at 0x0000022B0F3BD278> Fetched 200 tweets\n",
      "<ipykernel.iostream.OutStream object at 0x0000022B0F3BD278> Done fetching tweets\n",
      "<ipykernel.iostream.OutStream object at 0x0000022B0F3BD278> Fetched 200 tweets\n",
      "<ipykernel.iostream.OutStream object at 0x0000022B0F3BD278> Fetched 200 tweets\n",
      "<ipykernel.iostream.OutStream object at 0x0000022B0F3BD278> Fetched 200 tweets\n",
      "<ipykernel.iostream.OutStream object at 0x0000022B0F3BD278> Fetched 200 tweets\n",
      "<ipykernel.iostream.OutStream object at 0x0000022B0F3BD278> Fetched 200 tweets\n",
      "<ipykernel.iostream.OutStream object at 0x0000022B0F3BD278> Done fetching tweets\n",
      "<ipykernel.iostream.OutStream object at 0x0000022B0F3BD278> Fetched 200 tweets\n",
      "<ipykernel.iostream.OutStream object at 0x0000022B0F3BD278> Fetched 200 tweets\n",
      "<ipykernel.iostream.OutStream object at 0x0000022B0F3BD278> Fetched 199 tweets\n",
      "<ipykernel.iostream.OutStream object at 0x0000022B0F3BD278> Fetched 200 tweets\n",
      "<ipykernel.iostream.OutStream object at 0x0000022B0F3BD278> Fetched 200 tweets\n",
      "<ipykernel.iostream.OutStream object at 0x0000022B0F3BD278> Fetched 200 tweets\n",
      "<ipykernel.iostream.OutStream object at 0x0000022B0F3BD278> Done fetching tweets\n",
      "<ipykernel.iostream.OutStream object at 0x0000022B0F3BD278> Fetched 199 tweets\n",
      "<ipykernel.iostream.OutStream object at 0x0000022B0F3BD278> Fetched 110 tweets\n",
      "<ipykernel.iostream.OutStream object at 0x0000022B0F3BD278> Fetched 0 tweets\n",
      "<ipykernel.iostream.OutStream object at 0x0000022B0F3BD278> Done fetching tweets\n",
      "<ipykernel.iostream.OutStream object at 0x0000022B0F3BD278> Fetched 200 tweets\n",
      "<ipykernel.iostream.OutStream object at 0x0000022B0F3BD278> Fetched 200 tweets\n",
      "<ipykernel.iostream.OutStream object at 0x0000022B0F3BD278> Fetched 200 tweets\n",
      "<ipykernel.iostream.OutStream object at 0x0000022B0F3BD278> Fetched 200 tweets\n",
      "<ipykernel.iostream.OutStream object at 0x0000022B0F3BD278> Fetched 200 tweets\n",
      "<ipykernel.iostream.OutStream object at 0x0000022B0F3BD278> Done fetching tweets\n"
     ]
    },
    {
     "name": "stderr",
     "output_type": "stream",
     "text": [
      "Encountered 404 Error (Not Found)\n"
     ]
    },
    {
     "name": "stdout",
     "output_type": "stream",
     "text": [
      "<ipykernel.iostream.OutStream object at 0x0000022B0F3BD278> Fetched 0 tweets\n",
      "<ipykernel.iostream.OutStream object at 0x0000022B0F3BD278> Done fetching tweets\n",
      "<ipykernel.iostream.OutStream object at 0x0000022B0F3BD278> Fetched 200 tweets\n",
      "<ipykernel.iostream.OutStream object at 0x0000022B0F3BD278> Fetched 200 tweets\n",
      "<ipykernel.iostream.OutStream object at 0x0000022B0F3BD278> Fetched 200 tweets\n",
      "<ipykernel.iostream.OutStream object at 0x0000022B0F3BD278> Fetched 200 tweets\n",
      "<ipykernel.iostream.OutStream object at 0x0000022B0F3BD278> Fetched 200 tweets\n",
      "<ipykernel.iostream.OutStream object at 0x0000022B0F3BD278> Done fetching tweets\n",
      "<ipykernel.iostream.OutStream object at 0x0000022B0F3BD278> Fetched 200 tweets\n",
      "<ipykernel.iostream.OutStream object at 0x0000022B0F3BD278> Fetched 200 tweets\n",
      "<ipykernel.iostream.OutStream object at 0x0000022B0F3BD278> Fetched 200 tweets\n",
      "<ipykernel.iostream.OutStream object at 0x0000022B0F3BD278> Fetched 200 tweets\n",
      "<ipykernel.iostream.OutStream object at 0x0000022B0F3BD278> Fetched 200 tweets\n",
      "<ipykernel.iostream.OutStream object at 0x0000022B0F3BD278> Done fetching tweets\n",
      "<ipykernel.iostream.OutStream object at 0x0000022B0F3BD278> Fetched 200 tweets\n",
      "<ipykernel.iostream.OutStream object at 0x0000022B0F3BD278> Fetched 200 tweets\n",
      "<ipykernel.iostream.OutStream object at 0x0000022B0F3BD278> Fetched 200 tweets\n",
      "<ipykernel.iostream.OutStream object at 0x0000022B0F3BD278> Fetched 200 tweets\n",
      "<ipykernel.iostream.OutStream object at 0x0000022B0F3BD278> Fetched 200 tweets\n",
      "<ipykernel.iostream.OutStream object at 0x0000022B0F3BD278> Done fetching tweets\n",
      "<ipykernel.iostream.OutStream object at 0x0000022B0F3BD278> Fetched 200 tweets\n",
      "<ipykernel.iostream.OutStream object at 0x0000022B0F3BD278> Fetched 200 tweets\n",
      "<ipykernel.iostream.OutStream object at 0x0000022B0F3BD278> Fetched 200 tweets\n",
      "<ipykernel.iostream.OutStream object at 0x0000022B0F3BD278> Fetched 200 tweets\n",
      "<ipykernel.iostream.OutStream object at 0x0000022B0F3BD278> Fetched 200 tweets\n",
      "<ipykernel.iostream.OutStream object at 0x0000022B0F3BD278> Done fetching tweets\n",
      "<ipykernel.iostream.OutStream object at 0x0000022B0F3BD278> Fetched 200 tweets\n",
      "<ipykernel.iostream.OutStream object at 0x0000022B0F3BD278> Fetched 200 tweets\n",
      "<ipykernel.iostream.OutStream object at 0x0000022B0F3BD278> Fetched 200 tweets\n",
      "<ipykernel.iostream.OutStream object at 0x0000022B0F3BD278> Fetched 200 tweets\n",
      "<ipykernel.iostream.OutStream object at 0x0000022B0F3BD278> Fetched 200 tweets\n",
      "<ipykernel.iostream.OutStream object at 0x0000022B0F3BD278> Done fetching tweets\n",
      "<ipykernel.iostream.OutStream object at 0x0000022B0F3BD278> Fetched 200 tweets\n",
      "<ipykernel.iostream.OutStream object at 0x0000022B0F3BD278> Fetched 200 tweets\n",
      "<ipykernel.iostream.OutStream object at 0x0000022B0F3BD278> Fetched 200 tweets\n",
      "<ipykernel.iostream.OutStream object at 0x0000022B0F3BD278> Fetched 200 tweets\n",
      "<ipykernel.iostream.OutStream object at 0x0000022B0F3BD278> Fetched 200 tweets\n",
      "<ipykernel.iostream.OutStream object at 0x0000022B0F3BD278> Done fetching tweets\n",
      "<ipykernel.iostream.OutStream object at 0x0000022B0F3BD278> Fetched 200 tweets\n",
      "<ipykernel.iostream.OutStream object at 0x0000022B0F3BD278> Fetched 199 tweets\n",
      "<ipykernel.iostream.OutStream object at 0x0000022B0F3BD278> Fetched 199 tweets\n",
      "<ipykernel.iostream.OutStream object at 0x0000022B0F3BD278> Fetched 200 tweets\n",
      "<ipykernel.iostream.OutStream object at 0x0000022B0F3BD278> Fetched 200 tweets\n",
      "<ipykernel.iostream.OutStream object at 0x0000022B0F3BD278> Fetched 200 tweets\n",
      "<ipykernel.iostream.OutStream object at 0x0000022B0F3BD278> Done fetching tweets\n"
     ]
    },
    {
     "name": "stderr",
     "output_type": "stream",
     "text": [
      "Encountered 404 Error (Not Found)\n"
     ]
    },
    {
     "name": "stdout",
     "output_type": "stream",
     "text": [
      "<ipykernel.iostream.OutStream object at 0x0000022B0F3BD278> Fetched 0 tweets\n",
      "<ipykernel.iostream.OutStream object at 0x0000022B0F3BD278> Done fetching tweets\n",
      "<ipykernel.iostream.OutStream object at 0x0000022B0F3BD278> Fetched 200 tweets\n",
      "<ipykernel.iostream.OutStream object at 0x0000022B0F3BD278> Fetched 200 tweets\n",
      "<ipykernel.iostream.OutStream object at 0x0000022B0F3BD278> Fetched 200 tweets\n",
      "<ipykernel.iostream.OutStream object at 0x0000022B0F3BD278> Fetched 200 tweets\n",
      "<ipykernel.iostream.OutStream object at 0x0000022B0F3BD278> Fetched 200 tweets\n",
      "<ipykernel.iostream.OutStream object at 0x0000022B0F3BD278> Done fetching tweets\n",
      "<ipykernel.iostream.OutStream object at 0x0000022B0F3BD278> Fetched 200 tweets\n",
      "<ipykernel.iostream.OutStream object at 0x0000022B0F3BD278> Fetched 197 tweets\n",
      "<ipykernel.iostream.OutStream object at 0x0000022B0F3BD278> Fetched 200 tweets\n",
      "<ipykernel.iostream.OutStream object at 0x0000022B0F3BD278> Fetched 200 tweets\n",
      "<ipykernel.iostream.OutStream object at 0x0000022B0F3BD278> Fetched 200 tweets\n",
      "<ipykernel.iostream.OutStream object at 0x0000022B0F3BD278> Fetched 200 tweets\n",
      "<ipykernel.iostream.OutStream object at 0x0000022B0F3BD278> Done fetching tweets\n",
      "<ipykernel.iostream.OutStream object at 0x0000022B0F3BD278> Fetched 200 tweets\n",
      "<ipykernel.iostream.OutStream object at 0x0000022B0F3BD278> Fetched 200 tweets\n",
      "<ipykernel.iostream.OutStream object at 0x0000022B0F3BD278> Fetched 200 tweets\n",
      "<ipykernel.iostream.OutStream object at 0x0000022B0F3BD278> Fetched 200 tweets\n",
      "<ipykernel.iostream.OutStream object at 0x0000022B0F3BD278> Fetched 200 tweets\n",
      "<ipykernel.iostream.OutStream object at 0x0000022B0F3BD278> Done fetching tweets\n",
      "<ipykernel.iostream.OutStream object at 0x0000022B0F3BD278> Fetched 200 tweets\n",
      "<ipykernel.iostream.OutStream object at 0x0000022B0F3BD278> Fetched 165 tweets\n",
      "<ipykernel.iostream.OutStream object at 0x0000022B0F3BD278> Fetched 0 tweets\n",
      "<ipykernel.iostream.OutStream object at 0x0000022B0F3BD278> Done fetching tweets\n",
      "<ipykernel.iostream.OutStream object at 0x0000022B0F3BD278> Fetched 200 tweets\n",
      "<ipykernel.iostream.OutStream object at 0x0000022B0F3BD278> Fetched 200 tweets\n",
      "<ipykernel.iostream.OutStream object at 0x0000022B0F3BD278> Fetched 199 tweets\n",
      "<ipykernel.iostream.OutStream object at 0x0000022B0F3BD278> Fetched 200 tweets\n",
      "<ipykernel.iostream.OutStream object at 0x0000022B0F3BD278> Fetched 200 tweets\n",
      "<ipykernel.iostream.OutStream object at 0x0000022B0F3BD278> Fetched 200 tweets\n",
      "<ipykernel.iostream.OutStream object at 0x0000022B0F3BD278> Done fetching tweets\n"
     ]
    }
   ],
   "source": [
    "for i in nominees:\n",
    "    tweets = harvest_user_timeline(t, screen_name=i)\n",
    "    for tweet in tweets:\n",
    "        df = pd.DataFrame([[i, tweet['text'],tweet['retweeted'],tweet['retweet_count'],tweet['favorite_count']]], columns=['screen_name','tweets','retweet','retweetcount','favcount'])\n",
    "        with open('allnomineesTweets2.csv','a',encoding='utf-8') as f:\n",
    "            df.to_csv(f,header=False, index=False)\n",
    "    "
   ]
  },
  {
   "cell_type": "markdown",
   "metadata": {},
   "source": [
    "###### finally call the function, fetch and save the tweets"
   ]
  }
 ],
 "metadata": {
  "kernelspec": {
   "display_name": "Python 3",
   "language": "python",
   "name": "python3"
  },
  "language_info": {
   "codemirror_mode": {
    "name": "ipython",
    "version": 3
   },
   "file_extension": ".py",
   "mimetype": "text/x-python",
   "name": "python",
   "nbconvert_exporter": "python",
   "pygments_lexer": "ipython3",
   "version": "3.7.1"
  }
 },
 "nbformat": 4,
 "nbformat_minor": 2
}
